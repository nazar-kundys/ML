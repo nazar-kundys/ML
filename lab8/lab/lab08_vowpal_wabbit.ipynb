{
 "cells": [
  {
   "cell_type": "markdown",
   "metadata": {},
   "source": [
    "<div align=\"right\"><em>Машинне навчання. Лабораторний практикум</em></div>"
   ]
  },
  {
   "cell_type": "markdown",
   "metadata": {},
   "source": [
    "# Лабораторна робота №8\n",
    "## Реалізація алгоритмів онлайн-навчання. Бібліотека Vowpal Wabbit\n",
    "\n",
    "\n",
    "---\n"
   ]
  },
  {
   "cell_type": "markdown",
   "metadata": {},
   "source": [
    "## Завдання\n",
    "\n",
    "Набір даних (archive.zip) містить тексти арабською мовою, а саме відгуки про фільми, книги, продукти і т.д., що поділяються на три класи: позитивні, негативні та змішані.\n",
    "\n",
    "Будемо розв'язувати задачу бінарної класифікації з використанням бібліотеки [Vowpal Wabbit](https://github.com/VowpalWabbit/vowpal_wabbit).\n",
    "\n",
    "**Необхідно:**\n",
    "1. Завантажити дані;\n",
    "2. Видалити з набору відгуки з міткою ('Mixed');\n",
    "3. Розділити дані на навчальну і відкладену частини;\n",
    "4. Конвертувати дані у формат VW; \n",
    "5. Навчити модель Vowpal Wabbit з логістичною функцією втрат на навчальних даних;\n",
    "6. Оцінити якість роботи класифікатора на відкладених даних:\n",
    "    - обчислити показник якості ROC AUC ($\\ge 0.925$); \n",
    "    - відобразити ROC-криву."
   ]
  },
  {
   "cell_type": "markdown",
   "metadata": {},
   "source": [
    "## Виконання завдання"
   ]
  },
  {
   "cell_type": "code",
   "execution_count": 32,
   "metadata": {},
   "outputs": [],
   "source": [
    "import vowpalwabbit as vw\n",
    "import pandas as pd\n",
    "import re\n",
    "from sklearn.metrics import roc_auc_score, roc_curve\n",
    "from sklearn.model_selection import train_test_split\n",
    "import zipfile\n",
    "import matplotlib.pyplot as plt\n",
    "\n",
    "LOCAL_DATA_DIR = '../data'"
   ]
  },
  {
   "attachments": {},
   "cell_type": "markdown",
   "metadata": {},
   "source": [
    "1. #### Завантажити дані"
   ]
  },
  {
   "cell_type": "code",
   "execution_count": 33,
   "metadata": {},
   "outputs": [
    {
     "name": "stdout",
     "output_type": "stream",
     "text": [
      "Data Frame preview:            label                                               text\n",
      "0      Positive  ممتاز نوعا ما . النظافة والموقع والتجهيز والشا...\n",
      "1      Positive  أحد أسباب نجاح الإمارات أن كل شخص في هذه الدول...\n",
      "2      Positive  هادفة .. وقوية. تنقلك من صخب شوارع القاهرة الى...\n",
      "3      Positive  خلصنا .. مبدئيا اللي مستني ابهار زي الفيل الاز...\n",
      "4      Positive  ياسات جلوريا جزء لا يتجزأ من دبي . فندق متكامل...\n",
      "...         ...                                                ...\n",
      "99994  Negative  معرفش ليه كنت عاوزة أكملها وهي مش عاجباني من ا...\n",
      "99995  Negative  لا يستحق ان يكون في بوكنق لانه سيئ . لا شي. لا...\n",
      "99996  Negative  كتاب ضعيف جدا ولم استمتع به. فى كل قصه سرد لحا...\n",
      "99997  Negative  مملة جدا. محمد حسن علوان فنان بالكلمات، والوصف...\n",
      "99998  Negative  لن ارجع إليه مرة اخرى . قربه من البحر. المكان ...\n",
      "\n",
      "[99999 rows x 2 columns] \n",
      "\n",
      "\n",
      "Data Frame details:\n",
      " --------------------------------------------------            label                                               text\n",
      "count      99999                                              99999\n",
      "unique         3                                              99999\n",
      "top     Positive  ممتاز نوعا ما . النظافة والموقع والتجهيز والشا...\n",
      "freq       33333                                                  1\n",
      "\n",
      " --------------------------------------------------\n",
      "Positive    33333\n",
      "Mixed       33333\n",
      "Negative    33333\n",
      "Name: label, dtype: int64\n"
     ]
    }
   ],
   "source": [
    "with zipfile.ZipFile(LOCAL_DATA_DIR + \"/archive.zip\", mode=\"r\") as zip_file:\n",
    "    df = pd.read_csv(zip_file.open('ar_reviews_100k.tsv'), sep='\\t')\n",
    "    zip_file.close()\n",
    "\n",
    "print('Data Frame preview: ', df, '\\n')\n",
    "print('\\nData Frame details:\\n', '-'*50, df.describe()) \n",
    "print('\\n', '-'*50)\n",
    "print(f\"{df['label'].value_counts()}\") "
   ]
  },
  {
   "attachments": {},
   "cell_type": "markdown",
   "metadata": {},
   "source": [
    "2. #### Видалити з набору відгуки з міткою ('Mixed')"
   ]
  },
  {
   "cell_type": "code",
   "execution_count": 34,
   "metadata": {},
   "outputs": [
    {
     "data": {
      "text/plain": [
       "array(['Positive', 'Negative'], dtype=object)"
      ]
     },
     "execution_count": 34,
     "metadata": {},
     "output_type": "execute_result"
    }
   ],
   "source": [
    "df = df[df['label'] != 'Mixed']\n",
    "\n",
    "df['label'].unique()"
   ]
  },
  {
   "attachments": {},
   "cell_type": "markdown",
   "metadata": {},
   "source": [
    "3. #### Розділити дані на навчальну (training) і відкладену (holdout/testing) частини"
   ]
  },
  {
   "cell_type": "code",
   "execution_count": 69,
   "metadata": {},
   "outputs": [],
   "source": [
    "# prepare label values for vw format {-1; 1}\n",
    "text_train, text_test, label_train, label_test = train_test_split(df['text'], df['label'].replace('Positive', 1).replace('Negative', -1), shuffle=True, test_size=0.2)"
   ]
  },
  {
   "attachments": {},
   "cell_type": "markdown",
   "metadata": {},
   "source": [
    "4. #### Конвертувати дані у формат VW"
   ]
  },
  {
   "cell_type": "code",
   "execution_count": 70,
   "metadata": {},
   "outputs": [],
   "source": [
    "to_vw_format = lambda text, label=None: f\"{str(label or '')} |text \" + ' '.join(re.findall(\"\\w{3,}\", text.lower())) + '\\n' \n",
    "\n",
    "# for the train data\n",
    "with open(LOCAL_DATA_DIR + '/data_train.vw', 'w', encoding='utf-8') as vw_train:\n",
    "    for label, text in zip(label_train, text_train):\n",
    "        vw_train.write(to_vw_format(text=text, label=label))\n",
    "        \n",
    "# for the test data\n",
    "with open(LOCAL_DATA_DIR + '/data_test.vw', 'w', encoding='utf-8') as vw_test:\n",
    "    for text in text_test:\n",
    "        vw_test.write(to_vw_format(text=text))"
   ]
  },
  {
   "attachments": {},
   "cell_type": "markdown",
   "metadata": {},
   "source": [
    "5. #### Навчити модель Vowpal Wabbit з логістичною функцією втрат на навчальних даних"
   ]
  },
  {
   "cell_type": "code",
   "execution_count": 71,
   "metadata": {
    "vscode": {
     "languageId": "shellscript"
    }
   },
   "outputs": [
    {
     "name": "stderr",
     "output_type": "stream",
     "text": [
      "final_regressor = ../data/model.vw\n",
      "Num weight bits = 18\n",
      "learning rate = 0.5\n",
      "initial_t = 0\n",
      "power_t = 0.5\n",
      "using no cache\n",
      "Reading datafile = ../data/data_train.vw\n",
      "num sources = 1\n",
      "Enabled reductions: gd, scorer\n",
      "average  since         example        example  current  current  current\n",
      "loss     last          counter         weight    label  predict features\n",
      "0.693147 0.693147            1            1.0  -1.0000   0.0000       27\n",
      "0.646487 0.599828            2            2.0  -1.0000  -0.1963       44\n",
      "0.623911 0.601335            4            4.0  -1.0000  -0.1010        6\n",
      "0.647937 0.671962            8            8.0  -1.0000  -0.3827       49\n",
      "0.779325 0.910713           16           16.0   1.0000  -0.0003       18\n",
      "0.707039 0.634752           32           32.0  -1.0000  -0.1499        5\n",
      "0.687623 0.668207           64           64.0  -1.0000  -0.1538        6\n",
      "0.695465 0.703308          128          128.0  -1.0000  -0.0826       45\n",
      "0.669399 0.643333          256          256.0   1.0000   0.0453       10\n",
      "0.639391 0.609384          512          512.0  -1.0000   0.1144        9\n",
      "0.606392 0.573394         1024         1024.0  -1.0000   0.0337       25\n",
      "0.557281 0.508170         2048         2048.0   1.0000   0.4371       28\n",
      "0.520809 0.484337         4096         4096.0  -1.0000  -1.0710       24\n",
      "0.484676 0.448544         8192         8192.0   1.0000   0.1086       40\n",
      "0.446955 0.409233        16384        16384.0   1.0000   2.2498      229\n",
      "0.418097 0.389239        32768        32768.0   1.0000   2.8117       12\n",
      "\n",
      "finished run\n",
      "number of examples = 53332\n",
      "weighted example sum = 53332.000000\n",
      "weighted label sum = 52.000000\n",
      "average loss = 0.401865\n",
      "best constant = 0.001950\n",
      "best constant's loss = 0.693147\n",
      "total feature number = 2414529\n"
     ]
    }
   ],
   "source": [
    "!vw -d $LOCAL_DATA_DIR/data_train.vw \\\n",
    "--loss_function=logistic -f $LOCAL_DATA_DIR/model.vw"
   ]
  },
  {
   "attachments": {},
   "cell_type": "markdown",
   "metadata": {},
   "source": [
    "6. #### Оцінити якість роботи класифікатора на відкладених даних"
   ]
  },
  {
   "cell_type": "code",
   "execution_count": 72,
   "metadata": {
    "vscode": {
     "languageId": "shellscript"
    }
   },
   "outputs": [
    {
     "name": "stderr",
     "output_type": "stream",
     "text": [
      "only testing\n",
      "predictions = ../data/test_predictions.txt\n",
      "Num weight bits = 18\n",
      "learning rate = 0.5\n",
      "initial_t = 0\n",
      "power_t = 0.5\n",
      "using no cache\n",
      "Reading datafile = ../data/data_test.vw\n",
      "num sources = 1\n",
      "Enabled reductions: gd, scorer\n",
      "average  since         example        example  current  current  current\n",
      "loss     last          counter         weight    label  predict features\n",
      "    n.a.     n.a.            1            1.0  unknown  -0.9366        6\n",
      "    n.a.     n.a.            2            2.0  unknown   0.4718       11\n",
      "    n.a.     n.a.            4            4.0  unknown   0.3405       51\n",
      "    n.a.     n.a.            8            8.0  unknown  -5.3527        8\n",
      "    n.a.     n.a.           16           16.0  unknown   2.8721       64\n",
      "    n.a.     n.a.           32           32.0  unknown   2.8700       29\n",
      "    n.a.     n.a.           64           64.0  unknown   6.2765      314\n",
      "    n.a.     n.a.          128          128.0  unknown   2.9438       12\n",
      "    n.a.     n.a.          256          256.0  unknown   8.8636      212\n",
      "    n.a.     n.a.          512          512.0  unknown   4.9038       36\n",
      "    n.a.     n.a.         1024         1024.0  unknown   1.1849       19\n",
      "    n.a.     n.a.         2048         2048.0  unknown  -2.1176       26\n",
      "    n.a.     n.a.         4096         4096.0  unknown  -0.4516        4\n",
      "    n.a.     n.a.         8192         8192.0  unknown   2.4919        4\n",
      "\n",
      "finished run\n",
      "number of examples = 13334\n",
      "weighted example sum = 13334.000000\n",
      "weighted label sum = 0.000000\n",
      "average loss = n.a.\n",
      "total feature number = 607080\n"
     ]
    }
   ],
   "source": [
    "!vw -i $LOCAL_DATA_DIR/model.vw -t -d $LOCAL_DATA_DIR/data_test.vw \\\n",
    "-p $LOCAL_DATA_DIR/test_predictions.txt"
   ]
  },
  {
   "attachments": {},
   "cell_type": "markdown",
   "metadata": {},
   "source": [
    "#### обчислити показник якості ROC AUC ($\\ge 0.925$)"
   ]
  },
  {
   "cell_type": "code",
   "execution_count": 73,
   "metadata": {},
   "outputs": [
    {
     "data": {
      "text/plain": [
       "0.9263516285795336"
      ]
     },
     "execution_count": 73,
     "metadata": {},
     "output_type": "execute_result"
    }
   ],
   "source": [
    "with open(LOCAL_DATA_DIR+'/test_predictions.txt', mode='r') as pred_file:\n",
    "    prediction_test = [float(label) for label in pred_file.readlines()]\n",
    "\n",
    "auc, rcurve = roc_auc_score(label_test, prediction_test), roc_curve(label_test, prediction_test)\n",
    "\n",
    "auc"
   ]
  },
  {
   "attachments": {},
   "cell_type": "markdown",
   "metadata": {},
   "source": [
    "#### відобразити ROC-криву"
   ]
  },
  {
   "cell_type": "code",
   "execution_count": 74,
   "metadata": {},
   "outputs": [
    {
     "data": {
      "image/png": "[encoded data removed]",
      "text/plain": [
       "<Figure size 640x480 with 1 Axes>"
      ]
     },
     "metadata": {},
     "output_type": "display_data"
    }
   ],
   "source": [
    "with plt.xkcd():\n",
    "    plt.plot(rcurve[0], rcurve[1])\n",
    "    plt.plot([0,1], [0,1])\n",
    "    plt.xlabel('FPR'); plt.ylabel('TPR') \n",
    "    plt.title(f'test: AUC $\\\\geq$ {auc} $\\\\Rightarrow$ {auc >= 0.925}') \n",
    "    plt.axis([-0.05,1.05,-0.05,1.05])\n",
    "    plt.show()"
   ]
  }
 ],
 "metadata": {
  "kernelspec": {
   "display_name": "base",
   "language": "python",
   "name": "python3"
  },
  "language_info": {
   "codemirror_mode": {
    "name": "ipython",
    "version": 3
   },
   "file_extension": ".py",
   "mimetype": "text/x-python",
   "name": "python",
   "nbconvert_exporter": "python",
   "pygments_lexer": "ipython3",
   "version": "3.9.13"
  },
  "nbTranslate": {
   "displayLangs": [
    "*"
   ],
   "hotkey": "alt-t",
   "langInMainMenu": true,
   "sourceLang": "en",
   "targetLang": "fr",
   "useGoogleTranslate": true
  },
  "vscode": {
   "interpreter": {
    "hash": "876c98e5815945061c9bba8b2c8cf940578324ee05636c1644ec0388f862cee9"
   }
  }
 },
 "nbformat": 4,
 "nbformat_minor": 4
}
